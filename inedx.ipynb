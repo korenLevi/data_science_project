{
 "cells": [
  {
   "cell_type": "code",
   "execution_count": 3,
   "metadata": {},
   "outputs": [],
   "source": [
    "import requests\n",
    "import pandas as pd\n",
    "import json"
   ]
  },
  {
   "cell_type": "code",
   "execution_count": 2,
   "metadata": {},
   "outputs": [],
   "source": [
    "url = \"https://api.rentberry.com/v4/apartment/search/place\"\n",
    "page = 2\n",
    "headers = {\n",
    "    \"accept\": \"application/json, text/plain, */*\",\n",
    "    \"accept-language\": \"en-US,en;q=0.9,he-IL;q=0.8,he;q=0.7\",\n",
    "    \"content-type\": \"application/x-www-form-urlencoded; charset=UTF-8\",\n",
    "    \"datatype\": \"json\",\n",
    "    \"sec-ch-ua\": \"\\\"Google Chrome\\\";v=\\\"111\\\", \\\"Not(A:Brand\\\";v=\\\"8\\\", \\\"Chromium\\\";v=\\\"111\\\"\",\n",
    "    \"sec-ch-ua-mobile\": \"?0\",\n",
    "    \"sec-ch-ua-platform\": \"\\\"Windows\\\"\",\n",
    "    \"sec-fetch-dest\": \"empty\",\n",
    "    \"sec-fetch-mode\": \"cors\",\n",
    "    \"sec-fetch-site\": \"same-site\"\n",
    "}\n",
    "data = {\n",
    "    \"nwLatitude\": \"36.81242055721018\",\n",
    "    \"nwLongitude\": \"-119.45887363840332\",\n",
    "    \"seLatitude\": \"36.74408621247345\",\n",
    "    \"seLongitude\": \"-119.37699116159668\",\n",
    "    \"formattedAddress\": \"California, USA\",\n",
    "    \"mapWidth\": \"513\",\n",
    "    \"mapHeight\": \"497\",\n",
    "    \"zoom\": \"13\",\n",
    "    \"center[latitude]\": \"36.778261\",\n",
    "    \"center[longitude]\": \"-119.4179324\",\n",
    "    \"cat\": \"false\",\n",
    "    \"dog\": \"false\",\n",
    "    \"hasVirtualTour\": \"false\",\n",
    "    \"canHostRefugee\": \"false\",\n",
    "    \"transactionType\": \"sale\",\n",
    "    \"url\": \"/apartments-sale/s/california-usa\",\n",
    "    \"sort\": \"relevance\",\n",
    "    \"page\": page,\n",
    "    \"searchBy\": \"place\"\n",
    "}\n",
    "response = requests.post(url, headers=headers, data=data)\n"
   ]
  },
  {
   "cell_type": "code",
   "execution_count": 5,
   "metadata": {},
   "outputs": [],
   "source": [
    "\n",
    "response_json = json.loads(response.content)\n",
    "df = pd.json_normalize(response_json['body']['searchResult']['properties']['apartments'])"
   ]
  },
  {
   "cell_type": "code",
   "execution_count": 2,
   "metadata": {},
   "outputs": [
    {
     "name": "stdout",
     "output_type": "stream",
     "text": [
      "koren is my king\n"
     ]
    }
   ],
   "source": [
    "\tprint(\"koren is my king\")"
   ]
  }
 ],
 "metadata": {
  "interpreter": {
   "hash": "85e597612749592d312dba6bd9deca4cf27a3c6f52e8c3fe4eba0d2f8f4ea76b"
  },
  "kernelspec": {
   "display_name": "Python 3.9.13 ('base')",
   "language": "python",
   "name": "python3"
  },
  "language_info": {
   "codemirror_mode": {
    "name": "ipython",
    "version": 3
   },
   "file_extension": ".py",
   "mimetype": "text/x-python",
   "name": "python",
   "nbconvert_exporter": "python",
   "pygments_lexer": "ipython3",
   "version": "3.9.13"
  },
  "orig_nbformat": 4
 },
 "nbformat": 4,
 "nbformat_minor": 2
}
